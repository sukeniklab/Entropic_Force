{
 "cells": [
  {
   "cell_type": "code",
   "execution_count": 1,
   "id": "f43a8599",
   "metadata": {},
   "outputs": [],
   "source": [
    "import pandas as pd\n",
    "import os\n",
    "import numpy as np"
   ]
  },
  {
   "cell_type": "code",
   "execution_count": 2,
   "id": "65838318",
   "metadata": {},
   "outputs": [],
   "source": [
    "import matplotlib.pyplot as plt\n",
    "import seaborn as sns\n",
    "sns.set_theme(style=\"ticks\", palette=\"pastel\")\n",
    "import matplotlib as mpl\n",
    "plt.style.use(r'F:\\DATA_F\\JPCB_fig_publish_svg\\publish.mplstyple')"
   ]
  },
  {
   "cell_type": "code",
   "execution_count": 3,
   "id": "3a639c08",
   "metadata": {},
   "outputs": [],
   "source": [
    "target_dir=r'F:\\DATA_F\\Entropy_Force_raw_data'\n",
    "os.chdir(target_dir)\n",
    "full_df=pd.read_csv('Disprot_DP_entropic_force.csv')\n",
    "ref_df=pd.read_csv('Disprot_DP_ensemble_data.csv')\n",
    "full_df_gs=pd.read_csv('GS_linker_entropic_force.csv')\n",
    "ref_df_gs=pd.read_csv('GS_linker_ensemble_data.csv')\n",
    "full_df_NDK=pd.read_csv('UGDH_entropic_force.csv')\n",
    "ref_df_NDK=pd.read_csv('UGDH_ensemble_data.csv')\n",
    "full_df_puma=pd.read_csv('PUMA_entropic_force.csv')\n",
    "ref_df_puma=pd.read_csv('PUMA_ensemble_data.csv')\n",
    "uniprot=pd.read_csv('Table_Uniprot.csv')"
   ]
  },
  {
   "cell_type": "code",
   "execution_count": 4,
   "id": "59d90110",
   "metadata": {},
   "outputs": [],
   "source": [
    "datatype=['ee','rg','HB','helix','beta','asphericity']\n",
    "datatype_name=['Ree','Rg','H-bonds','Helicity','Beta-Sheet','Asphericity']\n",
    "solution=[-3,-2,-1,0,1,2,3]\n",
    "solution_name=['m3','m2','m1','buffer','p1','p2','p3']\n",
    "features=['kappa','FCR','NCPR','kappa_IL','kappa_QN','kappa_YF']\n",
    "features_other=['kappa','FCR','NCPR']"
   ]
  },
  {
   "cell_type": "code",
   "execution_count": 5,
   "id": "cf5854cb",
   "metadata": {},
   "outputs": [],
   "source": [
    "datatype_dict=dict(zip(datatype,datatype_name))\n",
    "solution_dict=dict(zip(solution,solution_name))"
   ]
  },
  {
   "cell_type": "code",
   "execution_count": 6,
   "id": "e9e3b05f",
   "metadata": {},
   "outputs": [
    {
     "data": {
      "text/plain": [
       "dict_items([('ee', 'Ree'), ('rg', 'Rg'), ('HB', 'H-bonds'), ('helix', 'Helicity'), ('beta', 'Beta-Sheet'), ('asphericity', 'Asphericity')])"
      ]
     },
     "execution_count": 6,
     "metadata": {},
     "output_type": "execute_result"
    }
   ],
   "source": [
    "datatype_dict.items()"
   ]
  },
  {
   "cell_type": "code",
   "execution_count": 7,
   "id": "03c6f84c",
   "metadata": {},
   "outputs": [],
   "source": [
    "ref_df['dataset']='DisProt'\n",
    "ref_df_gs['dataset']='GS'\n",
    "ref_df_NDK['dataset']='UGDH'\n",
    "ref_df_puma['dataset']='PUMA'"
   ]
  },
  {
   "cell_type": "code",
   "execution_count": 8,
   "id": "56c8f592",
   "metadata": {},
   "outputs": [],
   "source": [
    "full_df['dataset']='DisProt'\n",
    "full_df_gs['dataset']='GS'\n",
    "full_df_NDK['dataset']='UGDH'\n",
    "full_df_puma['dataset']='PUMA'"
   ]
  },
  {
   "cell_type": "code",
   "execution_count": 9,
   "id": "dc58d683",
   "metadata": {},
   "outputs": [],
   "source": [
    "ls_disprot=[]\n",
    "for name, group in ref_df.groupby(by=['Protein']):\n",
    "    df_dict={}\n",
    "    df_dict['protein']=name\n",
    "    df_dict['sequence']=group[group['datatype']=='feature']['Sequence'].item()\n",
    "    df_dict['length']=group[group['datatype']=='feature']['length'].item()\n",
    "    df_dict['dataset']=group[group['datatype']=='feature']['dataset'].item()\n",
    "    if name in uniprot['Protein'].to_list():\n",
    "        df_dict['Uniprot']=uniprot[uniprot['Protein']==name]['Uniprot'].item()\n",
    "        df_dict['location_in_Uniprot']=uniprot[uniprot['Protein']==name]['location'].item()\n",
    "    else:\n",
    "        df_dict['Uniprot']=np.NaN\n",
    "        df_dict['location_in_Uniprot']=np.NaN\n",
    "    for index2,j in enumerate(solution):\n",
    "        df_dict['_'.join(['frame_number'\n",
    "                        ,solution_name[index2]])]=group[(group['datatype']=='ee')\n",
    "                                                       &(group['prot_solv_inter']==j)]['frame_counts'].item()\n",
    "        for index,i in enumerate(datatype):\n",
    "            df_dict['_'.join([datatype_name[index]\n",
    "                            ,solution_name[index2]\n",
    "                    ,'value'])]=group[(group['datatype']==i)\n",
    "                                    &(group['prot_solv_inter']==j)]['value'].item()\n",
    "            df_dict['_'.join([datatype_name[index]\n",
    "                            ,solution_name[index2]\n",
    "                    ,'std'])]=group[(group['datatype']==i)\n",
    "                                  &(group['prot_solv_inter']==j)]['Std'].item()\n",
    "    for k in features:\n",
    "        df_dict[k]=group[group['datatype']=='feature'][k].item()\n",
    "    ls_disprot.append(df_dict)\n",
    "df_disprot=pd.DataFrame(ls_disprot)"
   ]
  },
  {
   "cell_type": "code",
   "execution_count": 10,
   "id": "242ba6f8",
   "metadata": {},
   "outputs": [],
   "source": [
    "df_disprot['location_in_Uniprot'].replace(-1,np.NaN,inplace=True)\n",
    "df_disprot['location_in_Uniprot']+=1"
   ]
  },
  {
   "cell_type": "code",
   "execution_count": 11,
   "id": "4d1476b8",
   "metadata": {},
   "outputs": [],
   "source": [
    "def generate_df(df):\n",
    "    ls=[]\n",
    "    for name, group in df.groupby(by=['Protein']):\n",
    "        df_dict={}\n",
    "        df_dict['protein']=name\n",
    "        df_dict['sequence']=group[group['datatype']=='feature']['Sequence'].item()\n",
    "        df_dict['length']=group[group['datatype']=='feature']['length'].item()\n",
    "        df_dict['dataset']=group[group['datatype']=='feature']['dataset'].item()\n",
    "        if name in uniprot['Protein'].to_list():\n",
    "            df_dict['Uniprot']=uniprot[uniprot['Protein']==name]['Uniprot'].item()\n",
    "        else:\n",
    "            df_dict['Uniprot']='nan'\n",
    "        for index2,j in enumerate(solution):\n",
    "            df_dict['_'.join(['frame_number'\n",
    "                            ,solution_name[index2]])]=group[(group['datatype']=='ee')\n",
    "                                                           &(group['prot_solv_inter']==j)]['frame_counts'].item()\n",
    "            for index,i in enumerate(datatype):\n",
    "                df_dict['_'.join([datatype_name[index]\n",
    "                                ,solution_name[index2]\n",
    "                        ,'value'])]=group[(group['datatype']==i)\n",
    "                                        &(group['prot_solv_inter']==j)]['value'].item()\n",
    "                df_dict['_'.join([datatype_name[index]\n",
    "                                ,solution_name[index2]\n",
    "                        ,'std'])]=group[(group['datatype']==i)\n",
    "                                      &(group['prot_solv_inter']==j)]['Std'].item()\n",
    "        ls.append(df_dict)\n",
    "    return pd.DataFrame(ls)"
   ]
  },
  {
   "cell_type": "code",
   "execution_count": 12,
   "id": "3316551a",
   "metadata": {},
   "outputs": [],
   "source": [
    "df_test=pd.concat([df_disprot,generate_df(ref_df_gs),generate_df(ref_df_puma)])"
   ]
  },
  {
   "cell_type": "code",
   "execution_count": 13,
   "id": "f53a0edd",
   "metadata": {},
   "outputs": [],
   "source": [
    "protein='A1LCD'\n",
    "condition=1\n",
    "condition2='p1'\n",
    "data='rg'\n",
    "data2='Rg'"
   ]
  },
  {
   "cell_type": "code",
   "execution_count": 14,
   "id": "22869c72",
   "metadata": {},
   "outputs": [],
   "source": [
    "v1=ref_df[(ref_df['Protein']==protein)&(ref_df['prot_solv_inter']==condition)&(ref_df['datatype']==data)]['value']\n",
    "v2=df_test[df_test['protein']==protein]['_'.join([data2,condition2,'value'])]"
   ]
  },
  {
   "cell_type": "code",
   "execution_count": 15,
   "id": "febffbc5",
   "metadata": {
    "scrolled": false
   },
   "outputs": [
    {
     "name": "stdout",
     "output_type": "stream",
     "text": [
      "Test Case protein A1LCD\n",
      "Solution condition 1 1, 2 p1\n",
      "Datatype 1 rg, 2 Rg\n",
      "Correct v1=2.024116545099813, v2=2.024116545099813\n"
     ]
    }
   ],
   "source": [
    "print('Test Case protein {}'.format(protein))\n",
    "print('Solution condition 1 {}, 2 {}'.format(condition,condition2))\n",
    "print('Datatype 1 {}, 2 {}'.format(data,data2))\n",
    "if v1.item()==v2.item():\n",
    "    print('Correct v1={}, v2={}'.format(v1.item(),v2.item()))\n",
    "else:\n",
    "    print('Wrong v1={}, v2={}'.format(v1.item(),v2.item()))"
   ]
  },
  {
   "cell_type": "markdown",
   "id": "a3a2507c",
   "metadata": {},
   "source": [
    "## Entropic df"
   ]
  },
  {
   "cell_type": "code",
   "execution_count": 16,
   "id": "145cc128",
   "metadata": {},
   "outputs": [],
   "source": [
    "d_t_pair=full_df.groupby(['distance','theta']).size().reset_index().drop(columns=0).to_numpy().tolist()"
   ]
  },
  {
   "cell_type": "code",
   "execution_count": 17,
   "id": "b87ad3b0",
   "metadata": {},
   "outputs": [],
   "source": [
    "d_t_dict={}\n",
    "for i in d_t_pair:\n",
    "    if i[0]==0:\n",
    "        d_t_dict[tuple(i)]=('0',str(int(i[1])))\n",
    "    else:\n",
    "        d_t_dict[tuple(i)]=(str(i[0]),str(int(i[1])))"
   ]
  },
  {
   "cell_type": "code",
   "execution_count": 18,
   "id": "da1afdcb",
   "metadata": {
    "scrolled": true
   },
   "outputs": [
    {
     "data": {
      "text/plain": [
       "{(0.0, 1.0): ('0', '1'),\n",
       " (0.0, 30.0): ('0', '30'),\n",
       " (0.0, 60.0): ('0', '60'),\n",
       " (0.2, 1.0): ('0.2', '1'),\n",
       " (0.2, 30.0): ('0.2', '30'),\n",
       " (0.5, 1.0): ('0.5', '1')}"
      ]
     },
     "execution_count": 18,
     "metadata": {},
     "output_type": "execute_result"
    }
   ],
   "source": [
    "d_t_dict"
   ]
  },
  {
   "cell_type": "code",
   "execution_count": 19,
   "id": "6491d33a",
   "metadata": {},
   "outputs": [],
   "source": [
    "def generate_entropy_df(df):\n",
    "    ls=[]\n",
    "    dataset=df['dataset'].unique()[0]\n",
    "    for name, group in df.groupby(by=['Protein']):\n",
    "        df_dict={}\n",
    "        df_dict['protein']=name\n",
    "        df_dict['dataset']=dataset\n",
    "        for key2,j in solution_dict.items():\n",
    "            for key1,i in d_t_dict.items():\n",
    "                df_dict['_'.join(['OmegaT/OmegaU','d',i[0],'t',i[1]\n",
    "                                ,'solution',j])]=group[(group['distance']==key1[0])\n",
    "                                        &(group['theta']==key1[1])\n",
    "                                        &(group['prot_solv_inter']==key2)]['OmegaT/OmegaU'].item()\n",
    "        ls.append(df_dict)\n",
    "    df_ds=pd.DataFrame(ls)\n",
    "    for key,i in solution_dict.items():\n",
    "        DS_column_name=[\"OmegaT/OmegaU_d_{}_t_{}_solution_{}\".format(x[0],x[1],i) for x in d_t_dict.values()]\n",
    "        df_ds['_'.join(['DS/k',i])]=np.log(df_ds[DS_column_name].mean(axis=1))\n",
    "    return df_ds\n",
    "    "
   ]
  },
  {
   "cell_type": "code",
   "execution_count": 20,
   "id": "74011b8a",
   "metadata": {},
   "outputs": [],
   "source": [
    "df_entropy_test=pd.concat([generate_entropy_df(full_df),generate_entropy_df(full_df_gs),generate_entropy_df(full_df_puma)])"
   ]
  },
  {
   "cell_type": "code",
   "execution_count": 21,
   "id": "0088941b",
   "metadata": {},
   "outputs": [
    {
     "data": {
      "text/html": [
       "<div>\n",
       "<style scoped>\n",
       "    .dataframe tbody tr th:only-of-type {\n",
       "        vertical-align: middle;\n",
       "    }\n",
       "\n",
       "    .dataframe tbody tr th {\n",
       "        vertical-align: top;\n",
       "    }\n",
       "\n",
       "    .dataframe thead th {\n",
       "        text-align: right;\n",
       "    }\n",
       "</style>\n",
       "<table border=\"1\" class=\"dataframe\">\n",
       "  <thead>\n",
       "    <tr style=\"text-align: right;\">\n",
       "      <th></th>\n",
       "      <th>protein</th>\n",
       "      <th>sequence</th>\n",
       "      <th>length</th>\n",
       "      <th>dataset</th>\n",
       "      <th>Uniprot</th>\n",
       "      <th>location_in_Uniprot</th>\n",
       "      <th>frame_number_m3</th>\n",
       "      <th>Ree_m3_value</th>\n",
       "      <th>Ree_m3_std</th>\n",
       "      <th>Rg_m3_value</th>\n",
       "      <th>...</th>\n",
       "      <th>OmegaT/OmegaU_d_0.2_t_1_solution_p3</th>\n",
       "      <th>OmegaT/OmegaU_d_0.2_t_30_solution_p3</th>\n",
       "      <th>OmegaT/OmegaU_d_0.5_t_1_solution_p3</th>\n",
       "      <th>DS/k_m3</th>\n",
       "      <th>DS/k_m2</th>\n",
       "      <th>DS/k_m1</th>\n",
       "      <th>DS/k_buffer</th>\n",
       "      <th>DS/k_p1</th>\n",
       "      <th>DS/k_p2</th>\n",
       "      <th>DS/k_p3</th>\n",
       "    </tr>\n",
       "  </thead>\n",
       "  <tbody>\n",
       "    <tr>\n",
       "      <th>0</th>\n",
       "      <td>A1LCD</td>\n",
       "      <td>GSMASASSSQRGRSGSGNFGGGRGGGFGGNDNFGRGGNFSGRGGFG...</td>\n",
       "      <td>137.0</td>\n",
       "      <td>DisProt</td>\n",
       "      <td>P09651</td>\n",
       "      <td>NaN</td>\n",
       "      <td>28000.0</td>\n",
       "      <td>2.436023</td>\n",
       "      <td>0.738622</td>\n",
       "      <td>1.787628</td>\n",
       "      <td>...</td>\n",
       "      <td>0.118679</td>\n",
       "      <td>0.174756</td>\n",
       "      <td>0.166851</td>\n",
       "      <td>-3.278427</td>\n",
       "      <td>-4.197723</td>\n",
       "      <td>-3.178959</td>\n",
       "      <td>-2.411656</td>\n",
       "      <td>-2.948720</td>\n",
       "      <td>-2.119966</td>\n",
       "      <td>-1.944196</td>\n",
       "    </tr>\n",
       "    <tr>\n",
       "      <th>1</th>\n",
       "      <td>Ash1</td>\n",
       "      <td>GASASSSPSPSTPTKSGKMRSRSSSPVRPKAYTPSPRSPNYHRFAL...</td>\n",
       "      <td>83.0</td>\n",
       "      <td>DisProt</td>\n",
       "      <td>P34233</td>\n",
       "      <td>NaN</td>\n",
       "      <td>28000.0</td>\n",
       "      <td>5.382038</td>\n",
       "      <td>0.448216</td>\n",
       "      <td>2.514507</td>\n",
       "      <td>...</td>\n",
       "      <td>0.148917</td>\n",
       "      <td>0.224619</td>\n",
       "      <td>0.209667</td>\n",
       "      <td>-2.038726</td>\n",
       "      <td>-1.915832</td>\n",
       "      <td>-1.813926</td>\n",
       "      <td>-1.740897</td>\n",
       "      <td>-1.729333</td>\n",
       "      <td>-1.701277</td>\n",
       "      <td>-1.694077</td>\n",
       "    </tr>\n",
       "    <tr>\n",
       "      <th>2</th>\n",
       "      <td>At1g54410_dehydrin</td>\n",
       "      <td>MAGLINKIGDALHIGGGNKEGEHKKEEEHKKHVDEHKSGEHKEGIV...</td>\n",
       "      <td>98.0</td>\n",
       "      <td>DisProt</td>\n",
       "      <td>Q9SLJ2</td>\n",
       "      <td>1.0</td>\n",
       "      <td>28050.0</td>\n",
       "      <td>6.006053</td>\n",
       "      <td>0.955006</td>\n",
       "      <td>2.642162</td>\n",
       "      <td>...</td>\n",
       "      <td>0.115404</td>\n",
       "      <td>0.159901</td>\n",
       "      <td>0.167053</td>\n",
       "      <td>-3.619747</td>\n",
       "      <td>-3.870143</td>\n",
       "      <td>-3.118171</td>\n",
       "      <td>-2.418984</td>\n",
       "      <td>-2.282233</td>\n",
       "      <td>-2.127918</td>\n",
       "      <td>-2.013296</td>\n",
       "    </tr>\n",
       "    <tr>\n",
       "      <th>3</th>\n",
       "      <td>At2g23120_PvLEA18</td>\n",
       "      <td>MEAGKTPPTTTTTTEKKTEQVKDNDLPTDSPYMATGTLEDYKLKAY...</td>\n",
       "      <td>83.0</td>\n",
       "      <td>DisProt</td>\n",
       "      <td>Q8S8R1</td>\n",
       "      <td>1.0</td>\n",
       "      <td>28023.0</td>\n",
       "      <td>4.266047</td>\n",
       "      <td>0.280709</td>\n",
       "      <td>1.889285</td>\n",
       "      <td>...</td>\n",
       "      <td>0.196531</td>\n",
       "      <td>0.220141</td>\n",
       "      <td>0.246983</td>\n",
       "      <td>-1.999341</td>\n",
       "      <td>-1.919374</td>\n",
       "      <td>-1.871162</td>\n",
       "      <td>-1.711624</td>\n",
       "      <td>-1.671281</td>\n",
       "      <td>-1.630154</td>\n",
       "      <td>-1.609898</td>\n",
       "    </tr>\n",
       "    <tr>\n",
       "      <th>4</th>\n",
       "      <td>At2g40170_LEA_5</td>\n",
       "      <td>MASQQEKKQLDERAKKGETVVPGGTGGKSFEAQQHLAEGRSRGGQT...</td>\n",
       "      <td>92.0</td>\n",
       "      <td>DisProt</td>\n",
       "      <td>Q02973</td>\n",
       "      <td>1.0</td>\n",
       "      <td>28066.0</td>\n",
       "      <td>3.901512</td>\n",
       "      <td>0.164235</td>\n",
       "      <td>1.813904</td>\n",
       "      <td>...</td>\n",
       "      <td>0.162477</td>\n",
       "      <td>0.246993</td>\n",
       "      <td>0.224978</td>\n",
       "      <td>-3.724069</td>\n",
       "      <td>-3.531038</td>\n",
       "      <td>-2.608973</td>\n",
       "      <td>-2.098628</td>\n",
       "      <td>-1.746163</td>\n",
       "      <td>-1.628027</td>\n",
       "      <td>-1.598387</td>\n",
       "    </tr>\n",
       "    <tr>\n",
       "      <th>...</th>\n",
       "      <td>...</td>\n",
       "      <td>...</td>\n",
       "      <td>...</td>\n",
       "      <td>...</td>\n",
       "      <td>...</td>\n",
       "      <td>...</td>\n",
       "      <td>...</td>\n",
       "      <td>...</td>\n",
       "      <td>...</td>\n",
       "      <td>...</td>\n",
       "      <td>...</td>\n",
       "      <td>...</td>\n",
       "      <td>...</td>\n",
       "      <td>...</td>\n",
       "      <td>...</td>\n",
       "      <td>...</td>\n",
       "      <td>...</td>\n",
       "      <td>...</td>\n",
       "      <td>...</td>\n",
       "      <td>...</td>\n",
       "      <td>...</td>\n",
       "    </tr>\n",
       "    <tr>\n",
       "      <th>192</th>\n",
       "      <td>puma_scramble_96</td>\n",
       "      <td>EADEIEEREQRVIRWHGAADLENAEQLRERRQYQ</td>\n",
       "      <td>34.0</td>\n",
       "      <td>PUMA</td>\n",
       "      <td>nan</td>\n",
       "      <td>NaN</td>\n",
       "      <td>16824.0</td>\n",
       "      <td>1.981744</td>\n",
       "      <td>0.174661</td>\n",
       "      <td>1.125905</td>\n",
       "      <td>...</td>\n",
       "      <td>0.250743</td>\n",
       "      <td>0.386789</td>\n",
       "      <td>0.362815</td>\n",
       "      <td>-1.185164</td>\n",
       "      <td>-1.142895</td>\n",
       "      <td>-1.122457</td>\n",
       "      <td>-1.128369</td>\n",
       "      <td>-1.143122</td>\n",
       "      <td>-1.162332</td>\n",
       "      <td>-1.166034</td>\n",
       "    </tr>\n",
       "    <tr>\n",
       "      <th>193</th>\n",
       "      <td>puma_scramble_97</td>\n",
       "      <td>LVHRNIEGRAYEREAIRQLDDQEQEREREQAEWA</td>\n",
       "      <td>34.0</td>\n",
       "      <td>PUMA</td>\n",
       "      <td>nan</td>\n",
       "      <td>NaN</td>\n",
       "      <td>16802.0</td>\n",
       "      <td>0.934274</td>\n",
       "      <td>0.038789</td>\n",
       "      <td>0.994616</td>\n",
       "      <td>...</td>\n",
       "      <td>0.202201</td>\n",
       "      <td>0.333343</td>\n",
       "      <td>0.298661</td>\n",
       "      <td>-4.622971</td>\n",
       "      <td>-2.869607</td>\n",
       "      <td>-3.339520</td>\n",
       "      <td>-2.393978</td>\n",
       "      <td>-1.780167</td>\n",
       "      <td>-1.434112</td>\n",
       "      <td>-1.315974</td>\n",
       "    </tr>\n",
       "    <tr>\n",
       "      <th>194</th>\n",
       "      <td>puma_scramble_98</td>\n",
       "      <td>QWEIYEHQQRINAADLRDGARREEEERQLAVREE</td>\n",
       "      <td>34.0</td>\n",
       "      <td>PUMA</td>\n",
       "      <td>nan</td>\n",
       "      <td>NaN</td>\n",
       "      <td>16152.0</td>\n",
       "      <td>2.128603</td>\n",
       "      <td>0.485679</td>\n",
       "      <td>1.173920</td>\n",
       "      <td>...</td>\n",
       "      <td>0.230207</td>\n",
       "      <td>0.351234</td>\n",
       "      <td>0.334383</td>\n",
       "      <td>-2.216888</td>\n",
       "      <td>-1.789345</td>\n",
       "      <td>-1.539953</td>\n",
       "      <td>-1.472751</td>\n",
       "      <td>-1.431345</td>\n",
       "      <td>-1.333629</td>\n",
       "      <td>-1.262395</td>\n",
       "    </tr>\n",
       "    <tr>\n",
       "      <th>195</th>\n",
       "      <td>puma_scramble_99</td>\n",
       "      <td>RRRHLNEQQYERIEAEAIEEDRWVAERQQADGEL</td>\n",
       "      <td>34.0</td>\n",
       "      <td>PUMA</td>\n",
       "      <td>nan</td>\n",
       "      <td>NaN</td>\n",
       "      <td>16812.0</td>\n",
       "      <td>1.407010</td>\n",
       "      <td>0.312577</td>\n",
       "      <td>0.955743</td>\n",
       "      <td>...</td>\n",
       "      <td>0.156480</td>\n",
       "      <td>0.266312</td>\n",
       "      <td>0.243215</td>\n",
       "      <td>-1.902884</td>\n",
       "      <td>-1.825818</td>\n",
       "      <td>-1.488993</td>\n",
       "      <td>-1.545318</td>\n",
       "      <td>-1.543846</td>\n",
       "      <td>-1.564211</td>\n",
       "      <td>-1.572269</td>\n",
       "    </tr>\n",
       "    <tr>\n",
       "      <th>196</th>\n",
       "      <td>puma_wildfull</td>\n",
       "      <td>VEEEEWAREIGAQLRRIADDLNAQYERRRQEEQH</td>\n",
       "      <td>34.0</td>\n",
       "      <td>PUMA</td>\n",
       "      <td>Q99ML1</td>\n",
       "      <td>NaN</td>\n",
       "      <td>16816.0</td>\n",
       "      <td>1.469696</td>\n",
       "      <td>0.212325</td>\n",
       "      <td>1.032794</td>\n",
       "      <td>...</td>\n",
       "      <td>0.240781</td>\n",
       "      <td>0.288059</td>\n",
       "      <td>0.318646</td>\n",
       "      <td>-2.226145</td>\n",
       "      <td>-2.008856</td>\n",
       "      <td>-1.871510</td>\n",
       "      <td>-1.775324</td>\n",
       "      <td>-1.568930</td>\n",
       "      <td>-1.433159</td>\n",
       "      <td>-1.358537</td>\n",
       "    </tr>\n",
       "  </tbody>\n",
       "</table>\n",
       "<p>197 rows × 152 columns</p>\n",
       "</div>"
      ],
      "text/plain": [
       "                protein                                           sequence  \\\n",
       "0                 A1LCD  GSMASASSSQRGRSGSGNFGGGRGGGFGGNDNFGRGGNFSGRGGFG...   \n",
       "1                  Ash1  GASASSSPSPSTPTKSGKMRSRSSSPVRPKAYTPSPRSPNYHRFAL...   \n",
       "2    At1g54410_dehydrin  MAGLINKIGDALHIGGGNKEGEHKKEEEHKKHVDEHKSGEHKEGIV...   \n",
       "3     At2g23120_PvLEA18  MEAGKTPPTTTTTTEKKTEQVKDNDLPTDSPYMATGTLEDYKLKAY...   \n",
       "4       At2g40170_LEA_5  MASQQEKKQLDERAKKGETVVPGGTGGKSFEAQQHLAEGRSRGGQT...   \n",
       "..                  ...                                                ...   \n",
       "192    puma_scramble_96                 EADEIEEREQRVIRWHGAADLENAEQLRERRQYQ   \n",
       "193    puma_scramble_97                 LVHRNIEGRAYEREAIRQLDDQEQEREREQAEWA   \n",
       "194    puma_scramble_98                 QWEIYEHQQRINAADLRDGARREEEERQLAVREE   \n",
       "195    puma_scramble_99                 RRRHLNEQQYERIEAEAIEEDRWVAERQQADGEL   \n",
       "196       puma_wildfull                 VEEEEWAREIGAQLRRIADDLNAQYERRRQEEQH   \n",
       "\n",
       "     length  dataset Uniprot  location_in_Uniprot  frame_number_m3  \\\n",
       "0     137.0  DisProt  P09651                  NaN          28000.0   \n",
       "1      83.0  DisProt  P34233                  NaN          28000.0   \n",
       "2      98.0  DisProt  Q9SLJ2                  1.0          28050.0   \n",
       "3      83.0  DisProt  Q8S8R1                  1.0          28023.0   \n",
       "4      92.0  DisProt  Q02973                  1.0          28066.0   \n",
       "..      ...      ...     ...                  ...              ...   \n",
       "192    34.0     PUMA     nan                  NaN          16824.0   \n",
       "193    34.0     PUMA     nan                  NaN          16802.0   \n",
       "194    34.0     PUMA     nan                  NaN          16152.0   \n",
       "195    34.0     PUMA     nan                  NaN          16812.0   \n",
       "196    34.0     PUMA  Q99ML1                  NaN          16816.0   \n",
       "\n",
       "     Ree_m3_value  Ree_m3_std  Rg_m3_value  ...  \\\n",
       "0        2.436023    0.738622     1.787628  ...   \n",
       "1        5.382038    0.448216     2.514507  ...   \n",
       "2        6.006053    0.955006     2.642162  ...   \n",
       "3        4.266047    0.280709     1.889285  ...   \n",
       "4        3.901512    0.164235     1.813904  ...   \n",
       "..            ...         ...          ...  ...   \n",
       "192      1.981744    0.174661     1.125905  ...   \n",
       "193      0.934274    0.038789     0.994616  ...   \n",
       "194      2.128603    0.485679     1.173920  ...   \n",
       "195      1.407010    0.312577     0.955743  ...   \n",
       "196      1.469696    0.212325     1.032794  ...   \n",
       "\n",
       "     OmegaT/OmegaU_d_0.2_t_1_solution_p3  \\\n",
       "0                               0.118679   \n",
       "1                               0.148917   \n",
       "2                               0.115404   \n",
       "3                               0.196531   \n",
       "4                               0.162477   \n",
       "..                                   ...   \n",
       "192                             0.250743   \n",
       "193                             0.202201   \n",
       "194                             0.230207   \n",
       "195                             0.156480   \n",
       "196                             0.240781   \n",
       "\n",
       "     OmegaT/OmegaU_d_0.2_t_30_solution_p3  \\\n",
       "0                                0.174756   \n",
       "1                                0.224619   \n",
       "2                                0.159901   \n",
       "3                                0.220141   \n",
       "4                                0.246993   \n",
       "..                                    ...   \n",
       "192                              0.386789   \n",
       "193                              0.333343   \n",
       "194                              0.351234   \n",
       "195                              0.266312   \n",
       "196                              0.288059   \n",
       "\n",
       "     OmegaT/OmegaU_d_0.5_t_1_solution_p3   DS/k_m3   DS/k_m2   DS/k_m1  \\\n",
       "0                               0.166851 -3.278427 -4.197723 -3.178959   \n",
       "1                               0.209667 -2.038726 -1.915832 -1.813926   \n",
       "2                               0.167053 -3.619747 -3.870143 -3.118171   \n",
       "3                               0.246983 -1.999341 -1.919374 -1.871162   \n",
       "4                               0.224978 -3.724069 -3.531038 -2.608973   \n",
       "..                                   ...       ...       ...       ...   \n",
       "192                             0.362815 -1.185164 -1.142895 -1.122457   \n",
       "193                             0.298661 -4.622971 -2.869607 -3.339520   \n",
       "194                             0.334383 -2.216888 -1.789345 -1.539953   \n",
       "195                             0.243215 -1.902884 -1.825818 -1.488993   \n",
       "196                             0.318646 -2.226145 -2.008856 -1.871510   \n",
       "\n",
       "     DS/k_buffer   DS/k_p1   DS/k_p2   DS/k_p3  \n",
       "0      -2.411656 -2.948720 -2.119966 -1.944196  \n",
       "1      -1.740897 -1.729333 -1.701277 -1.694077  \n",
       "2      -2.418984 -2.282233 -2.127918 -2.013296  \n",
       "3      -1.711624 -1.671281 -1.630154 -1.609898  \n",
       "4      -2.098628 -1.746163 -1.628027 -1.598387  \n",
       "..           ...       ...       ...       ...  \n",
       "192    -1.128369 -1.143122 -1.162332 -1.166034  \n",
       "193    -2.393978 -1.780167 -1.434112 -1.315974  \n",
       "194    -1.472751 -1.431345 -1.333629 -1.262395  \n",
       "195    -1.545318 -1.543846 -1.564211 -1.572269  \n",
       "196    -1.775324 -1.568930 -1.433159 -1.358537  \n",
       "\n",
       "[197 rows x 152 columns]"
      ]
     },
     "execution_count": 21,
     "metadata": {},
     "output_type": "execute_result"
    }
   ],
   "source": [
    "df_test.merge(df_entropy_test,on=['protein','dataset'],how='inner')"
   ]
  },
  {
   "cell_type": "code",
   "execution_count": 22,
   "id": "7927d9dc",
   "metadata": {},
   "outputs": [
    {
     "data": {
      "text/plain": [
       "'\\nfull_ls_disprot=[]\\ndataset=full_df[\\'dataset\\'].unique()[0]\\nfor name, group in full_df.groupby(by=[\\'Protein\\']):\\n    df_dict={}\\n    df_dict[\\'protein\\']=name\\n    df_dict[\\'dataset\\']=dataset\\n    for key2,j in solution_dict.items():\\n        for key1,i in d_t_dict.items():\\n            df_dict[\\'_\\'.join([\\'OmegaT/OmegaU\\',\\'d\\',i[0],\\'t\\',i[1]\\n                            ,\\'solution\\',j])]=group[(group[\\'distance\\']==key1[0])\\n                                    &(group[\\'theta\\']==key1[1])\\n                                    &(group[\\'prot_solv_inter\\']==key2)][\\'OmegaT/OmegaU\\'].item()\\n    full_ls_disprot.append(df_dict)\\ndf_disprot_test=pd.DataFrame(full_ls_disprot)\\nfor key,i in solution_dict.items():\\n    DS_column_name=[\"OmegaT/OmegaU_d_{}_t_{}_solution_{}\".format(x[0],x[1],i) for x in d_t_dict.values()]\\n    df_disprot_test[\\'_\\'.join([\\'DS/k\\',i])]=np.log(df_disprot_test[DS_column_name].mean(axis=1))\\ntest=df_test[df_test[\\'dataset\\']==\\'DisProt\\'].merge(df_disprot_test,on=[\\'protein\\',\\'dataset\\'],how=\\'inner\\')\\nplt.scatter(test[\\'length\\'],test[\\'DS/k_buffer\\'],s=200,facecolors=\\'None\\',edgecolor=\\'red\\',linewidth=3)    \\nplt.xlim(0,200)\\nplt.ylabel(\\'$\\\\Delta S/k_B$ \\')\\nplt.locator_params(axis=\\'x\\',nbins=5)\\nplt.xlabel(\\'number of residues\\')\\n'"
      ]
     },
     "execution_count": 22,
     "metadata": {},
     "output_type": "execute_result"
    }
   ],
   "source": [
    "'''\n",
    "full_ls_disprot=[]\n",
    "dataset=full_df['dataset'].unique()[0]\n",
    "for name, group in full_df.groupby(by=['Protein']):\n",
    "    df_dict={}\n",
    "    df_dict['protein']=name\n",
    "    df_dict['dataset']=dataset\n",
    "    for key2,j in solution_dict.items():\n",
    "        for key1,i in d_t_dict.items():\n",
    "            df_dict['_'.join(['OmegaT/OmegaU','d',i[0],'t',i[1]\n",
    "                            ,'solution',j])]=group[(group['distance']==key1[0])\n",
    "                                    &(group['theta']==key1[1])\n",
    "                                    &(group['prot_solv_inter']==key2)]['OmegaT/OmegaU'].item()\n",
    "    full_ls_disprot.append(df_dict)\n",
    "df_disprot_test=pd.DataFrame(full_ls_disprot)\n",
    "for key,i in solution_dict.items():\n",
    "    DS_column_name=[\"OmegaT/OmegaU_d_{}_t_{}_solution_{}\".format(x[0],x[1],i) for x in d_t_dict.values()]\n",
    "    df_disprot_test['_'.join(['DS/k',i])]=np.log(df_disprot_test[DS_column_name].mean(axis=1))\n",
    "test=df_test[df_test['dataset']=='DisProt'].merge(df_disprot_test,on=['protein','dataset'],how='inner')\n",
    "plt.scatter(test['length'],test['DS/k_buffer'],s=200,facecolors='None',edgecolor='red',linewidth=3)    \n",
    "plt.xlim(0,200)\n",
    "plt.ylabel('$\\Delta S/k_B$ ')\n",
    "plt.locator_params(axis='x',nbins=5)\n",
    "plt.xlabel('number of residues')\n",
    "'''"
   ]
  },
  {
   "cell_type": "code",
   "execution_count": 23,
   "id": "a17eac61",
   "metadata": {},
   "outputs": [],
   "source": [
    "protein='A1LCD'\n",
    "condition=1\n",
    "condition2='p1'\n",
    "distance=0.2\n",
    "distance2='0.2'\n",
    "theta=30\n",
    "theta2='30'"
   ]
  },
  {
   "cell_type": "code",
   "execution_count": 24,
   "id": "8bb0910e",
   "metadata": {},
   "outputs": [],
   "source": [
    "v1=full_df[(full_df['Protein']==protein)&(full_df['prot_solv_inter']==condition)&(full_df['distance']==distance)&(full_df['theta']==theta)]['OmegaT/OmegaU']\n",
    "v2=df_entropy_test[df_entropy_test['protein']==protein]['_'.join(['OmegaT/OmegaU','d',distance2,'t',theta2,'solution',condition2])]"
   ]
  },
  {
   "cell_type": "code",
   "execution_count": 25,
   "id": "1ee3f49c",
   "metadata": {},
   "outputs": [
    {
     "name": "stdout",
     "output_type": "stream",
     "text": [
      "Test Case protein A1LCD\n",
      "Solution condition 1 1, 2 p1\n",
      "Distance 1 0.2, 2 0.2\n",
      "Theta 1 30, 2 30\n",
      "Correct v1=0.0699107142857142, v2=0.0699107142857142\n"
     ]
    }
   ],
   "source": [
    "print('Test Case protein {}'.format(protein))\n",
    "print('Solution condition 1 {}, 2 {}'.format(condition,condition2))\n",
    "print('Distance 1 {}, 2 {}'.format(distance,distance2))\n",
    "print('Theta 1 {}, 2 {}'.format(theta,theta2))\n",
    "if v1.item()==v2.item():\n",
    "    print('Correct v1={}, v2={}'.format(v1.item(),v2.item()))\n",
    "else:\n",
    "    print('Wrong v1={}, v2={}'.format(v1.item(),v2.item()))"
   ]
  },
  {
   "cell_type": "code",
   "execution_count": 26,
   "id": "2d6e1660",
   "metadata": {},
   "outputs": [],
   "source": [
    "## UGDH do not have the solution space scanning so we need to manually modify part of the function"
   ]
  },
  {
   "cell_type": "code",
   "execution_count": 27,
   "id": "5f5a950b",
   "metadata": {},
   "outputs": [],
   "source": [
    "datatype_ugdh=['ee','rg','HB','helix','beta']\n",
    "datatype_name_ugdh=['Ree','Rg','H-bonds','Helicity','Beta-Sheet']\n",
    "solution_ugdh=[0]\n",
    "solution_name_ugdh=['buffer']\n",
    "features_other=['kappa','FCR','NCPR']\n",
    "datatype_dict_ugdh=dict(zip(datatype_ugdh,datatype_name_ugdh))\n",
    "solution_dict_ugdh=dict(zip(solution_ugdh,solution_name_ugdh))"
   ]
  },
  {
   "cell_type": "code",
   "execution_count": 28,
   "id": "c935f925",
   "metadata": {},
   "outputs": [],
   "source": [
    "ls_ugdh=[]\n",
    "for name, group in ref_df_NDK.groupby(by=['Protein']):\n",
    "    df_dict={}\n",
    "    df_dict['protein']=name\n",
    "    df_dict['sequence']=group[group['datatype']=='feature']['Sequence'].item()\n",
    "    df_dict['length']=group[group['datatype']=='feature']['length'].item()\n",
    "    df_dict['dataset']=group[group['datatype']=='feature']['dataset'].item()\n",
    "    if name in uniprot['Protein'].to_list():\n",
    "        df_dict['Uniprot']=uniprot[uniprot['Protein']==name]['Uniprot'].item()\n",
    "    else:\n",
    "        df_dict['Uniprot']='nan'\n",
    "    for index2,j in enumerate(solution_ugdh):\n",
    "        df_dict['_'.join(['frame_number'\n",
    "                        ,solution_name_ugdh[index2]])]=group[(group['datatype']=='ee')\n",
    "                                                       &(group['prot_solv_inter']==j)]['frame_counts'].item()\n",
    "        for index,i in enumerate(datatype_ugdh):\n",
    "            df_dict['_'.join([datatype_name_ugdh[index]\n",
    "                            ,solution_name_ugdh[index2]\n",
    "                    ,'value'])]=group[(group['datatype']==i)\n",
    "                                    &(group['prot_solv_inter']==j)]['value'].item()\n",
    "            df_dict['_'.join([datatype_name_ugdh[index]\n",
    "                            ,solution_name_ugdh[index2]\n",
    "                    ,'std'])]=group[(group['datatype']==i)\n",
    "                                  &(group['prot_solv_inter']==j)]['Std'].item()\n",
    "    ls_ugdh.append(df_dict)\n",
    "df_ugdh=pd.DataFrame(ls_ugdh)"
   ]
  },
  {
   "cell_type": "code",
   "execution_count": 29,
   "id": "35d6f636",
   "metadata": {},
   "outputs": [],
   "source": [
    "ugdh_ls_disprot=[]\n",
    "dataset=full_df_NDK['dataset'].unique()[0]\n",
    "for name, group in full_df_NDK.groupby(by=['Protein']):\n",
    "    df_dict={}\n",
    "    df_dict['protein']=name\n",
    "    df_dict['dataset']=dataset\n",
    "    for key2,j in solution_dict_ugdh.items():\n",
    "        for key1,i in d_t_dict.items():\n",
    "            df_dict['_'.join(['OmegaT/OmegaU','d',i[0],'t',i[1]\n",
    "                            ,'solution',j])]=group[(group['distance']==key1[0])\n",
    "                                    &(group['theta']==key1[1])\n",
    "                                    &(group['prot_solv_inter']==key2)]['OmegaT/OmegaU'].item()\n",
    "    ugdh_ls_disprot.append(df_dict)\n",
    "df_entropy_ugdh=pd.DataFrame(ugdh_ls_disprot)\n",
    "for key,i in solution_dict_ugdh.items():\n",
    "    DS_column_name=[\"OmegaT/OmegaU_d_{}_t_{}_solution_{}\".format(x[0],x[1],i) for x in d_t_dict.values()]\n",
    "    df_entropy_ugdh['_'.join(['DS/k',i])]=np.log(df_entropy_ugdh[DS_column_name].mean(axis=1))"
   ]
  },
  {
   "cell_type": "code",
   "execution_count": 30,
   "id": "249ebf60",
   "metadata": {},
   "outputs": [
    {
     "data": {
      "text/html": [
       "<div>\n",
       "<style scoped>\n",
       "    .dataframe tbody tr th:only-of-type {\n",
       "        vertical-align: middle;\n",
       "    }\n",
       "\n",
       "    .dataframe tbody tr th {\n",
       "        vertical-align: top;\n",
       "    }\n",
       "\n",
       "    .dataframe thead th {\n",
       "        text-align: right;\n",
       "    }\n",
       "</style>\n",
       "<table border=\"1\" class=\"dataframe\">\n",
       "  <thead>\n",
       "    <tr style=\"text-align: right;\">\n",
       "      <th></th>\n",
       "      <th>protein</th>\n",
       "      <th>sequence</th>\n",
       "      <th>length</th>\n",
       "      <th>dataset</th>\n",
       "      <th>Uniprot</th>\n",
       "      <th>frame_number_buffer</th>\n",
       "      <th>Ree_buffer_value</th>\n",
       "      <th>Ree_buffer_std</th>\n",
       "      <th>Rg_buffer_value</th>\n",
       "      <th>Rg_buffer_std</th>\n",
       "      <th>...</th>\n",
       "      <th>Helicity_buffer_std</th>\n",
       "      <th>Beta-Sheet_buffer_value</th>\n",
       "      <th>Beta-Sheet_buffer_std</th>\n",
       "      <th>OmegaT/OmegaU_d_0_t_1_solution_buffer</th>\n",
       "      <th>OmegaT/OmegaU_d_0_t_30_solution_buffer</th>\n",
       "      <th>OmegaT/OmegaU_d_0_t_60_solution_buffer</th>\n",
       "      <th>OmegaT/OmegaU_d_0.2_t_1_solution_buffer</th>\n",
       "      <th>OmegaT/OmegaU_d_0.2_t_30_solution_buffer</th>\n",
       "      <th>OmegaT/OmegaU_d_0.5_t_1_solution_buffer</th>\n",
       "      <th>DS/k_buffer</th>\n",
       "    </tr>\n",
       "  </thead>\n",
       "  <tbody>\n",
       "    <tr>\n",
       "      <th>0</th>\n",
       "      <td>0.33fl</td>\n",
       "      <td>KVSSKRIPYA</td>\n",
       "      <td>10.0</td>\n",
       "      <td>UGDH</td>\n",
       "      <td>nan</td>\n",
       "      <td>28000.0</td>\n",
       "      <td>1.547693</td>\n",
       "      <td>0.023156</td>\n",
       "      <td>0.788819</td>\n",
       "      <td>0.004120</td>\n",
       "      <td>...</td>\n",
       "      <td>0.004171</td>\n",
       "      <td>0.015857</td>\n",
       "      <td>0.008366</td>\n",
       "      <td>0.226476</td>\n",
       "      <td>0.523667</td>\n",
       "      <td>0.719107</td>\n",
       "      <td>0.376690</td>\n",
       "      <td>0.659232</td>\n",
       "      <td>0.597869</td>\n",
       "      <td>-0.659377</td>\n",
       "    </tr>\n",
       "    <tr>\n",
       "      <th>1</th>\n",
       "      <td>0.5fl</td>\n",
       "      <td>KVSSKRIPYAPSGEI</td>\n",
       "      <td>15.0</td>\n",
       "      <td>UGDH</td>\n",
       "      <td>nan</td>\n",
       "      <td>28000.0</td>\n",
       "      <td>1.830348</td>\n",
       "      <td>0.017365</td>\n",
       "      <td>0.933190</td>\n",
       "      <td>0.004664</td>\n",
       "      <td>...</td>\n",
       "      <td>0.005411</td>\n",
       "      <td>0.019060</td>\n",
       "      <td>0.005827</td>\n",
       "      <td>0.168863</td>\n",
       "      <td>0.402244</td>\n",
       "      <td>0.561292</td>\n",
       "      <td>0.288512</td>\n",
       "      <td>0.522548</td>\n",
       "      <td>0.479887</td>\n",
       "      <td>-0.906611</td>\n",
       "    </tr>\n",
       "    <tr>\n",
       "      <th>2</th>\n",
       "      <td>2fl</td>\n",
       "      <td>KVSSKRIPYAPSGEIPKFSLQDPPNKKPKVKVSSKRIPYAPSGEIP...</td>\n",
       "      <td>60.0</td>\n",
       "      <td>UGDH</td>\n",
       "      <td>nan</td>\n",
       "      <td>28000.0</td>\n",
       "      <td>5.845012</td>\n",
       "      <td>0.111550</td>\n",
       "      <td>2.328466</td>\n",
       "      <td>0.021544</td>\n",
       "      <td>...</td>\n",
       "      <td>0.004580</td>\n",
       "      <td>0.017267</td>\n",
       "      <td>0.006444</td>\n",
       "      <td>0.097262</td>\n",
       "      <td>0.220440</td>\n",
       "      <td>0.305810</td>\n",
       "      <td>0.161768</td>\n",
       "      <td>0.287935</td>\n",
       "      <td>0.260482</td>\n",
       "      <td>-1.503805</td>\n",
       "    </tr>\n",
       "    <tr>\n",
       "      <th>3</th>\n",
       "      <td>fl</td>\n",
       "      <td>KVSSKRIPYAPSGEIPKFSLQDPPNKKPKV</td>\n",
       "      <td>30.0</td>\n",
       "      <td>UGDH</td>\n",
       "      <td>O60701</td>\n",
       "      <td>28000.0</td>\n",
       "      <td>3.464233</td>\n",
       "      <td>0.043082</td>\n",
       "      <td>1.450581</td>\n",
       "      <td>0.020377</td>\n",
       "      <td>...</td>\n",
       "      <td>0.008209</td>\n",
       "      <td>0.016064</td>\n",
       "      <td>0.005801</td>\n",
       "      <td>0.114405</td>\n",
       "      <td>0.267524</td>\n",
       "      <td>0.384411</td>\n",
       "      <td>0.191202</td>\n",
       "      <td>0.355881</td>\n",
       "      <td>0.320738</td>\n",
       "      <td>-1.300630</td>\n",
       "    </tr>\n",
       "    <tr>\n",
       "      <th>4</th>\n",
       "      <td>r1</td>\n",
       "      <td>KPSKSPKSISPKPALDPGFPYVNREQKVKI</td>\n",
       "      <td>30.0</td>\n",
       "      <td>UGDH</td>\n",
       "      <td>NaN</td>\n",
       "      <td>28000.0</td>\n",
       "      <td>3.403873</td>\n",
       "      <td>0.029433</td>\n",
       "      <td>1.496558</td>\n",
       "      <td>0.013179</td>\n",
       "      <td>...</td>\n",
       "      <td>0.014828</td>\n",
       "      <td>0.007368</td>\n",
       "      <td>0.001678</td>\n",
       "      <td>0.200327</td>\n",
       "      <td>0.375286</td>\n",
       "      <td>0.539548</td>\n",
       "      <td>0.280363</td>\n",
       "      <td>0.466839</td>\n",
       "      <td>0.385119</td>\n",
       "      <td>-0.981949</td>\n",
       "    </tr>\n",
       "    <tr>\n",
       "      <th>5</th>\n",
       "      <td>r2</td>\n",
       "      <td>DKKPYVFLSPNPKSPIKVQKKPSEAGRPIS</td>\n",
       "      <td>30.0</td>\n",
       "      <td>UGDH</td>\n",
       "      <td>NaN</td>\n",
       "      <td>28000.0</td>\n",
       "      <td>3.348024</td>\n",
       "      <td>0.022791</td>\n",
       "      <td>1.434422</td>\n",
       "      <td>0.007424</td>\n",
       "      <td>...</td>\n",
       "      <td>0.004722</td>\n",
       "      <td>0.018944</td>\n",
       "      <td>0.004697</td>\n",
       "      <td>0.201304</td>\n",
       "      <td>0.375024</td>\n",
       "      <td>0.507012</td>\n",
       "      <td>0.271190</td>\n",
       "      <td>0.443048</td>\n",
       "      <td>0.360708</td>\n",
       "      <td>-1.022445</td>\n",
       "    </tr>\n",
       "  </tbody>\n",
       "</table>\n",
       "<p>6 rows × 23 columns</p>\n",
       "</div>"
      ],
      "text/plain": [
       "  protein                                           sequence  length dataset  \\\n",
       "0  0.33fl                                         KVSSKRIPYA    10.0    UGDH   \n",
       "1   0.5fl                                    KVSSKRIPYAPSGEI    15.0    UGDH   \n",
       "2     2fl  KVSSKRIPYAPSGEIPKFSLQDPPNKKPKVKVSSKRIPYAPSGEIP...    60.0    UGDH   \n",
       "3      fl                     KVSSKRIPYAPSGEIPKFSLQDPPNKKPKV    30.0    UGDH   \n",
       "4      r1                     KPSKSPKSISPKPALDPGFPYVNREQKVKI    30.0    UGDH   \n",
       "5      r2                     DKKPYVFLSPNPKSPIKVQKKPSEAGRPIS    30.0    UGDH   \n",
       "\n",
       "  Uniprot  frame_number_buffer  Ree_buffer_value  Ree_buffer_std  \\\n",
       "0     nan              28000.0          1.547693        0.023156   \n",
       "1     nan              28000.0          1.830348        0.017365   \n",
       "2     nan              28000.0          5.845012        0.111550   \n",
       "3  O60701              28000.0          3.464233        0.043082   \n",
       "4     NaN              28000.0          3.403873        0.029433   \n",
       "5     NaN              28000.0          3.348024        0.022791   \n",
       "\n",
       "   Rg_buffer_value  Rg_buffer_std  ...  Helicity_buffer_std  \\\n",
       "0         0.788819       0.004120  ...             0.004171   \n",
       "1         0.933190       0.004664  ...             0.005411   \n",
       "2         2.328466       0.021544  ...             0.004580   \n",
       "3         1.450581       0.020377  ...             0.008209   \n",
       "4         1.496558       0.013179  ...             0.014828   \n",
       "5         1.434422       0.007424  ...             0.004722   \n",
       "\n",
       "   Beta-Sheet_buffer_value  Beta-Sheet_buffer_std  \\\n",
       "0                 0.015857               0.008366   \n",
       "1                 0.019060               0.005827   \n",
       "2                 0.017267               0.006444   \n",
       "3                 0.016064               0.005801   \n",
       "4                 0.007368               0.001678   \n",
       "5                 0.018944               0.004697   \n",
       "\n",
       "   OmegaT/OmegaU_d_0_t_1_solution_buffer  \\\n",
       "0                               0.226476   \n",
       "1                               0.168863   \n",
       "2                               0.097262   \n",
       "3                               0.114405   \n",
       "4                               0.200327   \n",
       "5                               0.201304   \n",
       "\n",
       "   OmegaT/OmegaU_d_0_t_30_solution_buffer  \\\n",
       "0                                0.523667   \n",
       "1                                0.402244   \n",
       "2                                0.220440   \n",
       "3                                0.267524   \n",
       "4                                0.375286   \n",
       "5                                0.375024   \n",
       "\n",
       "   OmegaT/OmegaU_d_0_t_60_solution_buffer  \\\n",
       "0                                0.719107   \n",
       "1                                0.561292   \n",
       "2                                0.305810   \n",
       "3                                0.384411   \n",
       "4                                0.539548   \n",
       "5                                0.507012   \n",
       "\n",
       "   OmegaT/OmegaU_d_0.2_t_1_solution_buffer  \\\n",
       "0                                 0.376690   \n",
       "1                                 0.288512   \n",
       "2                                 0.161768   \n",
       "3                                 0.191202   \n",
       "4                                 0.280363   \n",
       "5                                 0.271190   \n",
       "\n",
       "   OmegaT/OmegaU_d_0.2_t_30_solution_buffer  \\\n",
       "0                                  0.659232   \n",
       "1                                  0.522548   \n",
       "2                                  0.287935   \n",
       "3                                  0.355881   \n",
       "4                                  0.466839   \n",
       "5                                  0.443048   \n",
       "\n",
       "   OmegaT/OmegaU_d_0.5_t_1_solution_buffer  DS/k_buffer  \n",
       "0                                 0.597869    -0.659377  \n",
       "1                                 0.479887    -0.906611  \n",
       "2                                 0.260482    -1.503805  \n",
       "3                                 0.320738    -1.300630  \n",
       "4                                 0.385119    -0.981949  \n",
       "5                                 0.360708    -1.022445  \n",
       "\n",
       "[6 rows x 23 columns]"
      ]
     },
     "execution_count": 30,
     "metadata": {},
     "output_type": "execute_result"
    }
   ],
   "source": [
    "df_ugdh.merge(df_entropy_ugdh)"
   ]
  },
  {
   "cell_type": "code",
   "execution_count": 31,
   "id": "89fa3b5f",
   "metadata": {},
   "outputs": [],
   "source": [
    "df_full=pd.concat([df_disprot,generate_df(ref_df_gs),generate_df(ref_df_puma),df_ugdh])"
   ]
  },
  {
   "cell_type": "code",
   "execution_count": 32,
   "id": "6c4c54a3",
   "metadata": {},
   "outputs": [],
   "source": [
    "df_entropy=pd.concat([generate_entropy_df(full_df),generate_entropy_df(full_df_gs),generate_entropy_df(full_df_puma),df_entropy_ugdh])"
   ]
  },
  {
   "cell_type": "code",
   "execution_count": 33,
   "id": "55b2466d",
   "metadata": {},
   "outputs": [],
   "source": [
    "df_result=df_full.merge(df_entropy,on=['protein','dataset'],how='inner')"
   ]
  },
  {
   "cell_type": "code",
   "execution_count": 34,
   "id": "2a5f6fde",
   "metadata": {
    "scrolled": true
   },
   "outputs": [],
   "source": [
    "df_result.to_csv('Table_S1.csv',index=False)"
   ]
  },
  {
   "cell_type": "code",
   "execution_count": 38,
   "id": "e4e8db53",
   "metadata": {},
   "outputs": [],
   "source": [
    "protein='0.33fl'\n",
    "condition=0\n",
    "condition2='buffer'\n",
    "distance=0.2\n",
    "distance2='0.2'\n",
    "theta=30\n",
    "theta2='30'"
   ]
  },
  {
   "cell_type": "code",
   "execution_count": 39,
   "id": "9bb53726",
   "metadata": {},
   "outputs": [],
   "source": [
    "v1=full_df_NDK[(full_df_NDK['Protein']==protein)&(full_df_NDK['prot_solv_inter']==condition)&(full_df_NDK['distance']==distance)&(full_df_NDK['theta']==theta)]['OmegaT/OmegaU']\n",
    "v2=df_result[df_result['protein']==protein]['_'.join(['OmegaT/OmegaU','d',distance2,'t',theta2,'solution',condition2])]"
   ]
  },
  {
   "cell_type": "code",
   "execution_count": 40,
   "id": "de98d1f5",
   "metadata": {},
   "outputs": [
    {
     "name": "stdout",
     "output_type": "stream",
     "text": [
      "Test Case protein 0.33fl\n",
      "Solution condition 1 0, 2 buffer\n",
      "Distance 1 0.2, 2 0.2\n",
      "Theta 1 30, 2 30\n",
      "Correct v1=0.6592321428571428, v2=0.6592321428571428\n"
     ]
    }
   ],
   "source": [
    "print('Test Case protein {}'.format(protein))\n",
    "print('Solution condition 1 {}, 2 {}'.format(condition,condition2))\n",
    "print('Distance 1 {}, 2 {}'.format(distance,distance2))\n",
    "print('Theta 1 {}, 2 {}'.format(theta,theta2))\n",
    "if v1.item()==v2.item():\n",
    "    print('Correct v1={}, v2={}'.format(v1.item(),v2.item()))\n",
    "else:\n",
    "    print('Wrong v1={}, v2={}'.format(v1.item(),v2.item()))"
   ]
  },
  {
   "cell_type": "code",
   "execution_count": 41,
   "id": "908536f0",
   "metadata": {},
   "outputs": [],
   "source": [
    "protein='0.33fl'\n",
    "condition=0\n",
    "condition2='buffer'\n",
    "data='rg'\n",
    "data2='Rg'"
   ]
  },
  {
   "cell_type": "code",
   "execution_count": 46,
   "id": "703545ee",
   "metadata": {},
   "outputs": [],
   "source": [
    "v1=ref_df_NDK[(ref_df_NDK['Protein']==protein)&(ref_df_NDK['prot_solv_inter']==condition)&(ref_df_NDK['datatype']==data)]['value']\n",
    "v2=df_result[df_result['protein']==protein]['_'.join([data2,condition2,'value'])]"
   ]
  },
  {
   "cell_type": "code",
   "execution_count": 47,
   "id": "d7fe9f06",
   "metadata": {},
   "outputs": [
    {
     "name": "stdout",
     "output_type": "stream",
     "text": [
      "Test Case protein 0.33fl\n",
      "Solution condition 1 0, 2 buffer\n",
      "Datatype 1 rg, 2 Rg\n",
      "Correct v1=0.7888187349130059, v2=0.7888187349130059\n"
     ]
    }
   ],
   "source": [
    "print('Test Case protein {}'.format(protein))\n",
    "print('Solution condition 1 {}, 2 {}'.format(condition,condition2))\n",
    "print('Datatype 1 {}, 2 {}'.format(data,data2))\n",
    "if v1.item()==v2.item():\n",
    "    print('Correct v1={}, v2={}'.format(v1.item(),v2.item()))\n",
    "else:\n",
    "    print('Wrong v1={}, v2={}'.format(v1.item(),v2.item()))"
   ]
  },
  {
   "cell_type": "code",
   "execution_count": 77,
   "id": "f05c231f",
   "metadata": {},
   "outputs": [],
   "source": [
    "protein='p53'\n",
    "condition=1\n",
    "condition2='p1'"
   ]
  },
  {
   "cell_type": "code",
   "execution_count": 78,
   "id": "ad9984b4",
   "metadata": {},
   "outputs": [],
   "source": [
    "v1=np.log(full_df[full_df['prot_solv_inter']==condition].groupby(['Protein']).mean().loc[protein,'OmegaT/OmegaU'])\n",
    "v2=df_result[df_result['protein']==protein]['_'.join(['DS/k',condition2])]"
   ]
  },
  {
   "cell_type": "code",
   "execution_count": 79,
   "id": "25062a9e",
   "metadata": {},
   "outputs": [
    {
     "name": "stdout",
     "output_type": "stream",
     "text": [
      "Test Case protein p53\n",
      "Solution condition 1 1, 2 p1\n",
      "Correct v1=-1.3712767398240424, v2=-1.3712767398240424\n"
     ]
    }
   ],
   "source": [
    "print('Test Case protein {}'.format(protein))\n",
    "print('Solution condition 1 {}, 2 {}'.format(condition,condition2))\n",
    "if v1.item()==v2.item():\n",
    "    print('Correct v1={}, v2={}'.format(v1.item(),v2.item()))\n",
    "else:\n",
    "    print('Wrong v1={}, v2={}'.format(v1.item(),v2.item()))"
   ]
  },
  {
   "cell_type": "code",
   "execution_count": 48,
   "id": "f17fbb47",
   "metadata": {},
   "outputs": [],
   "source": [
    "#test plot\n",
    "GS=df_result[df_result['dataset']=='GS'].sort_values(by=['length'])"
   ]
  },
  {
   "cell_type": "code",
   "execution_count": null,
   "id": "cceb92e8",
   "metadata": {},
   "outputs": [],
   "source": []
  },
  {
   "cell_type": "code",
   "execution_count": 49,
   "id": "572476b8",
   "metadata": {},
   "outputs": [],
   "source": [
    "from scipy.optimize import curve_fit"
   ]
  },
  {
   "cell_type": "code",
   "execution_count": 50,
   "id": "90e15227",
   "metadata": {},
   "outputs": [],
   "source": [
    "def function_fit(x,a,b):\n",
    "    return a*x**(-b)"
   ]
  },
  {
   "cell_type": "code",
   "execution_count": 51,
   "id": "1f4c12a1",
   "metadata": {},
   "outputs": [],
   "source": [
    "X=GS['length'].to_numpy()\n",
    "y=GS['Ree_buffer_value'].to_numpy()\n",
    "popt,pcov=curve_fit(function_fit,X,y)"
   ]
  },
  {
   "cell_type": "code",
   "execution_count": 52,
   "id": "86588a38",
   "metadata": {},
   "outputs": [],
   "source": [
    "y_predict=function_fit(X,*popt)"
   ]
  },
  {
   "cell_type": "code",
   "execution_count": 53,
   "id": "0c06d446",
   "metadata": {},
   "outputs": [
    {
     "data": {
      "text/plain": [
       "[<matplotlib.lines.Line2D at 0x22510392850>]"
      ]
     },
     "execution_count": 53,
     "metadata": {},
     "output_type": "execute_result"
    },
    {
     "data": {
      "image/png": "[encoded data removed]",
      "text/plain": [
       "<Figure size 720x720 with 1 Axes>"
      ]
     },
     "metadata": {},
     "output_type": "display_data"
    }
   ],
   "source": [
    "plt.ylabel('$R_{ee}$ (nm)')\n",
    "plt.xlabel('number of residues')\n",
    "plt.scatter(GS['length'],GS['Ree_buffer_value'], s=800,facecolors='none',color='black',linewidth=5)\n",
    "plt.errorbar(GS['length'],GS['Ree_buffer_value'],yerr=GS['Ree_buffer_std'],linewidth=8,ls='',ms=30, color='black')\n",
    "plt.plot(X,y_predict,'r')"
   ]
  },
  {
   "cell_type": "code",
   "execution_count": 54,
   "id": "92ddaf59",
   "metadata": {},
   "outputs": [],
   "source": [
    "df_plot=df_result[df_result['dataset']=='DisProt'].copy()"
   ]
  },
  {
   "cell_type": "code",
   "execution_count": 55,
   "id": "af6dedce",
   "metadata": {},
   "outputs": [],
   "source": [
    "def save_to_svg(filename, root_path='F:\\DATA_F\\JPCB_fig_publish_svg'):\n",
    "    plt.savefig(os.path.join(root_path,filename))\n"
   ]
  },
  {
   "cell_type": "code",
   "execution_count": 56,
   "id": "888d283a",
   "metadata": {},
   "outputs": [
    {
     "data": {
      "text/plain": [
       "Text(0.5, 0, 'number of residues')"
      ]
     },
     "execution_count": 56,
     "metadata": {},
     "output_type": "execute_result"
    },
    {
     "data": {
      "image/png": "[encoded data removed]",
      "text/plain": [
       "<Figure size 720x720 with 1 Axes>"
      ]
     },
     "metadata": {},
     "output_type": "display_data"
    }
   ],
   "source": [
    "plt.scatter(df_plot['length'],df_plot['DS/k_buffer'],s=200,facecolors='None',edgecolor='red',linewidth=3)    \n",
    "plt.xlim(0,200)\n",
    "plt.ylabel('$\\Delta S/k_B$ ')\n",
    "plt.locator_params(axis='x',nbins=5)\n",
    "plt.xlabel('number of residues')\n",
    "#save_to_svg('Fig5A_double_check.svg')"
   ]
  },
  {
   "cell_type": "code",
   "execution_count": null,
   "id": "5cf0430e",
   "metadata": {},
   "outputs": [],
   "source": []
  }
 ],
 "metadata": {
  "kernelspec": {
   "display_name": "Python 3 (ipykernel)",
   "language": "python",
   "name": "python3"
  },
  "language_info": {
   "codemirror_mode": {
    "name": "ipython",
    "version": 3
   },
   "file_extension": ".py",
   "mimetype": "text/x-python",
   "name": "python",
   "nbconvert_exporter": "python",
   "pygments_lexer": "ipython3",
   "version": "3.9.7"
  }
 },
 "nbformat": 4,
 "nbformat_minor": 5
}
